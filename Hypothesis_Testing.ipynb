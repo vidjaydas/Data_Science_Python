{
  "nbformat": 4,
  "nbformat_minor": 0,
  "metadata": {
    "colab": {
      "name": "Hypothesis_Testing.ipynb",
      "provenance": [],
      "authorship_tag": "ABX9TyPqKbqnAvdpQliUbCGQZD4l",
      "include_colab_link": true
    },
    "kernelspec": {
      "name": "python3",
      "display_name": "Python 3"
    },
    "language_info": {
      "name": "python"
    }
  },
  "cells": [
    {
      "cell_type": "markdown",
      "metadata": {
        "id": "view-in-github",
        "colab_type": "text"
      },
      "source": [
        "<a href=\"https://colab.research.google.com/github/vidjaydas/Data_Science_Python/blob/main/Hypothesis_Testing.ipynb\" target=\"_parent\"><img src=\"https://colab.research.google.com/assets/colab-badge.svg\" alt=\"Open In Colab\"/></a>"
      ]
    },
    {
      "cell_type": "code",
      "metadata": {
        "id": "eF6FbWvkbZKK"
      },
      "source": [
        "from scipy import stats\n",
        "import pandas as pd\n",
        "import numpy as np\n",
        "import scipy"
      ],
      "execution_count": 23,
      "outputs": []
    },
    {
      "cell_type": "markdown",
      "metadata": {
        "id": "cXdOs4PCLdD9"
      },
      "source": [
        "##Super Market Example"
      ]
    },
    {
      "cell_type": "code",
      "metadata": {
        "colab": {
          "base_uri": "https://localhost:8080/"
        },
        "id": "HpcSCVssKctS",
        "outputId": "8e9a2fb8-0eca-48d6-d1f8-960c5ed0a5f2"
      },
      "source": [
        "stats.t.cdf(2.23, df=79)"
      ],
      "execution_count": 24,
      "outputs": [
        {
          "output_type": "execute_result",
          "data": {
            "text/plain": [
              "0.9857070911974259"
            ]
          },
          "metadata": {
            "tags": []
          },
          "execution_count": 24
        }
      ]
    },
    {
      "cell_type": "markdown",
      "metadata": {
        "id": "BN-TdN5VLxVA"
      },
      "source": [
        "##Call Center Example"
      ]
    },
    {
      "cell_type": "code",
      "metadata": {
        "colab": {
          "base_uri": "https://localhost:8080/"
        },
        "id": "ovahpyyBLs1E",
        "outputId": "9a831703-a48d-42d6-9137-80bd1545f927"
      },
      "source": [
        "(4.1-4)/(3/np.sqrt(50))"
      ],
      "execution_count": 25,
      "outputs": [
        {
          "output_type": "execute_result",
          "data": {
            "text/plain": [
              "0.235702260395515"
            ]
          },
          "metadata": {
            "tags": []
          },
          "execution_count": 25
        }
      ]
    },
    {
      "cell_type": "code",
      "metadata": {
        "colab": {
          "base_uri": "https://localhost:8080/"
        },
        "id": "2j8YLTc9MMFT",
        "outputId": "5869abe7-f139-44ea-d878-3fd2e9694254"
      },
      "source": [
        "2*stats.t.cdf(-0.23,df=49)   # P > alpha(0.005) so Failed to reject H0"
      ],
      "execution_count": 28,
      "outputs": [
        {
          "output_type": "execute_result",
          "data": {
            "text/plain": [
              "0.8190492539132669"
            ]
          },
          "metadata": {
            "tags": []
          },
          "execution_count": 28
        }
      ]
    },
    {
      "cell_type": "code",
      "metadata": {
        "colab": {
          "base_uri": "https://localhost:8080/"
        },
        "id": "pPWmhS5QMVaX",
        "outputId": "3630e01b-c275-4f2f-9cef-6410c49a9ebf"
      },
      "source": [
        "(5.3-4)/(3/np.sqrt(50))"
      ],
      "execution_count": 29,
      "outputs": [
        {
          "output_type": "execute_result",
          "data": {
            "text/plain": [
              "3.0641293851417055"
            ]
          },
          "metadata": {
            "tags": []
          },
          "execution_count": 29
        }
      ]
    },
    {
      "cell_type": "code",
      "metadata": {
        "colab": {
          "base_uri": "https://localhost:8080/"
        },
        "id": "G6BHUjpZMrCZ",
        "outputId": "b9aec234-407b-4738-b97f-063a7c63062e"
      },
      "source": [
        "2*stats.t.cdf(-3.06,df=49)   # P < alpha(0.005) so  reject H0"
      ],
      "execution_count": 31,
      "outputs": [
        {
          "output_type": "execute_result",
          "data": {
            "text/plain": [
              "0.00358476268097374"
            ]
          },
          "metadata": {
            "tags": []
          },
          "execution_count": 31
        }
      ]
    },
    {
      "cell_type": "code",
      "metadata": {
        "colab": {
          "base_uri": "https://localhost:8080/"
        },
        "id": "NOWYqYfdMzMY",
        "outputId": "a0d649e8-9ea4-499a-a3b0-6976403140bd"
      },
      "source": [
        "(3.7-4)/(3/np.sqrt(50))"
      ],
      "execution_count": 32,
      "outputs": [
        {
          "output_type": "execute_result",
          "data": {
            "text/plain": [
              "-0.7071067811865471"
            ]
          },
          "metadata": {
            "tags": []
          },
          "execution_count": 32
        }
      ]
    },
    {
      "cell_type": "code",
      "metadata": {
        "colab": {
          "base_uri": "https://localhost:8080/"
        },
        "id": "Qb8N5Hc7M66f",
        "outputId": "1d770d34-2ce9-4e5a-b8ca-70edec06cbd7"
      },
      "source": [
        "2*stats.t.cdf(-0.70,df=49)   # P > alpha(0.005) so Failed to reject H0"
      ],
      "execution_count": 33,
      "outputs": [
        {
          "output_type": "execute_result",
          "data": {
            "text/plain": [
              "0.48723758954983876"
            ]
          },
          "metadata": {
            "tags": []
          },
          "execution_count": 33
        }
      ]
    },
    {
      "cell_type": "code",
      "metadata": {
        "id": "UUkUWI8qNHyz"
      },
      "source": [
        ""
      ],
      "execution_count": 34,
      "outputs": []
    },
    {
      "cell_type": "markdown",
      "metadata": {
        "id": "Qp8hjpkVNNGJ"
      },
      "source": [
        "## One tail test"
      ]
    },
    {
      "cell_type": "code",
      "metadata": {
        "id": "aRZsXC3GNMSq"
      },
      "source": [
        "data = pd.Series([0.593, 0.142, 0.329, 0.691, 0.231, 0.793, 0.519, 0.392, 0.418])"
      ],
      "execution_count": 37,
      "outputs": []
    },
    {
      "cell_type": "code",
      "metadata": {
        "colab": {
          "base_uri": "https://localhost:8080/"
        },
        "id": "Pif4aLA-NW73",
        "outputId": "d091ce58-95ea-467a-e691-ab6a7d5e9681"
      },
      "source": [
        "data"
      ],
      "execution_count": 38,
      "outputs": [
        {
          "output_type": "execute_result",
          "data": {
            "text/plain": [
              "0    0.593\n",
              "1    0.142\n",
              "2    0.329\n",
              "3    0.691\n",
              "4    0.231\n",
              "5    0.793\n",
              "6    0.519\n",
              "7    0.392\n",
              "8    0.418\n",
              "dtype: float64"
            ]
          },
          "metadata": {
            "tags": []
          },
          "execution_count": 38
        }
      ]
    },
    {
      "cell_type": "code",
      "metadata": {
        "colab": {
          "base_uri": "https://localhost:8080/"
        },
        "id": "hGktW0hMNaaH",
        "outputId": "0d31757c-4a13-4b30-e24b-502c33a09788"
      },
      "source": [
        "#This gives two tail test p value so divide by 2 to get final p-value\n",
        "p = scipy.stats.ttest_1samp(data,0.3)[1]\n",
        "p"
      ],
      "execution_count": 39,
      "outputs": [
        {
          "output_type": "execute_result",
          "data": {
            "text/plain": [
              "0.05853032968489765"
            ]
          },
          "metadata": {
            "tags": []
          },
          "execution_count": 39
        }
      ]
    },
    {
      "cell_type": "code",
      "metadata": {
        "colab": {
          "base_uri": "https://localhost:8080/"
        },
        "id": "Q1pdgT3zO7K-",
        "outputId": "e597fbda-6490-4847-e56a-692b63bb6121"
      },
      "source": [
        "p/2"
      ],
      "execution_count": 40,
      "outputs": [
        {
          "output_type": "execute_result",
          "data": {
            "text/plain": [
              "0.029265164842448826"
            ]
          },
          "metadata": {
            "tags": []
          },
          "execution_count": 40
        }
      ]
    },
    {
      "cell_type": "code",
      "metadata": {
        "id": "_hexhc0fO9kJ"
      },
      "source": [
        "# P = 0.029 is less than alpha(0.05) so reject H0 and go with Ha\n",
        "# conclusion is ice cream factor mean level bactoria is more than MEAN(0.3), \n",
        "#Ice cream factory is causing the ploblem"
      ],
      "execution_count": 41,
      "outputs": []
    },
    {
      "cell_type": "code",
      "metadata": {
        "id": "EvGofOP9PxKJ"
      },
      "source": [
        ""
      ],
      "execution_count": null,
      "outputs": []
    },
    {
      "cell_type": "markdown",
      "metadata": {
        "id": "jstPpQqaQjXl"
      },
      "source": [
        "## 2 sample 2 tail test"
      ]
    },
    {
      "cell_type": "code",
      "metadata": {
        "id": "a7elKUDcQinA"
      },
      "source": [
        "control = pd.Series([91,87,99,77,88,91])\n",
        "treat = pd.Series([101, 110, 103, 93, 99, 104])"
      ],
      "execution_count": 42,
      "outputs": []
    },
    {
      "cell_type": "code",
      "metadata": {
        "colab": {
          "base_uri": "https://localhost:8080/"
        },
        "id": "VXIwV2E5Q42F",
        "outputId": "23717ec0-aa85-40f3-d64c-a5128e27e533"
      },
      "source": [
        "stats.ttest_ind(control, treat)"
      ],
      "execution_count": 43,
      "outputs": [
        {
          "output_type": "execute_result",
          "data": {
            "text/plain": [
              "Ttest_indResult(statistic=-3.445612673536487, pvalue=0.006272124350809803)"
            ]
          },
          "metadata": {
            "tags": []
          },
          "execution_count": 43
        }
      ]
    },
    {
      "cell_type": "code",
      "metadata": {
        "id": "bA7hd4LURkhL"
      },
      "source": [
        "#statistic is T value, \n",
        "# p value is less than alpha so reject H0\n",
        "# result: there is a statestical difference b/w treat group and control group"
      ],
      "execution_count": 45,
      "outputs": []
    },
    {
      "cell_type": "code",
      "metadata": {
        "id": "NasG9S5HRs2v"
      },
      "source": [
        ""
      ],
      "execution_count": null,
      "outputs": []
    }
  ]
}