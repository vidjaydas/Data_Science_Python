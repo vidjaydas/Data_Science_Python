{
  "nbformat": 4,
  "nbformat_minor": 0,
  "metadata": {
    "colab": {
      "name": "t-SNE.ipynb",
      "provenance": [],
      "collapsed_sections": [],
      "authorship_tag": "ABX9TyPsRV7geG/NktCgVmXmtDNg",
      "include_colab_link": true
    },
    "kernelspec": {
      "name": "python3",
      "display_name": "Python 3"
    },
    "language_info": {
      "name": "python"
    }
  },
  "cells": [
    {
      "cell_type": "markdown",
      "metadata": {
        "id": "view-in-github",
        "colab_type": "text"
      },
      "source": [
        "<a href=\"https://colab.research.google.com/github/vidjaydas/Data_Science_Python/blob/main/t_SNE.ipynb\" target=\"_parent\"><img src=\"https://colab.research.google.com/assets/colab-badge.svg\" alt=\"Open In Colab\"/></a>"
      ]
    },
    {
      "cell_type": "code",
      "metadata": {
        "id": "jVNmspw6bhbJ"
      },
      "source": [
        "!pip install bioinfokit        #Visualization"
      ],
      "execution_count": null,
      "outputs": []
    },
    {
      "cell_type": "code",
      "metadata": {
        "id": "DVfgR898eJCE"
      },
      "source": [
        "from pandas import read_csv\n",
        "import pandas as pd\n",
        "from sklearn.manifold import TSNE\n",
        "from bioinfokit.visuz import cluster"
      ],
      "execution_count": 3,
      "outputs": []
    },
    {
      "cell_type": "code",
      "metadata": {
        "id": "vJN87N3TcFIB"
      },
      "source": [
        "#load data\n",
        "filename = 'TSNE_data.csv'\n",
        "dataframe = pd.read_csv(filename)"
      ],
      "execution_count": 4,
      "outputs": []
    },
    {
      "cell_type": "code",
      "metadata": {
        "id": "MtcoP9X2eGRY"
      },
      "source": [
        "#Split-out validation dataset\n",
        "array = dataframe.values\n",
        "# Separate array into input and output components\n",
        "X = array[:,1:]\n",
        "Y = array[:,0]"
      ],
      "execution_count": 5,
      "outputs": []
    },
    {
      "cell_type": "code",
      "metadata": {
        "colab": {
          "base_uri": "https://localhost:8080/"
        },
        "id": "rb-YJ3BuevK6",
        "outputId": "cf234594-e3e2-4987-de7e-b62417e9939d"
      },
      "source": [
        "array"
      ],
      "execution_count": 8,
      "outputs": [
        {
          "output_type": "execute_result",
          "data": {
            "text/plain": [
              "array([['M', 17.99, 10.38, ..., 0.2654, 0.4601, 0.1189],\n",
              "       ['M', 20.57, 17.77, ..., 0.18600000000000003, 0.275, 0.08902],\n",
              "       ['M', 19.69, 21.25, ..., 0.243, 0.3613, 0.08757999999999999],\n",
              "       ...,\n",
              "       ['M', 16.6, 28.08, ..., 0.1418, 0.2218, 0.0782],\n",
              "       ['M', 20.6, 29.33, ..., 0.265, 0.4087, 0.124],\n",
              "       ['B', 7.76, 24.54, ..., 0.0, 0.2871, 0.07039]], dtype=object)"
            ]
          },
          "metadata": {
            "tags": []
          },
          "execution_count": 8
        }
      ]
    },
    {
      "cell_type": "code",
      "metadata": {
        "colab": {
          "base_uri": "https://localhost:8080/"
        },
        "id": "eOfJeMaue2kH",
        "outputId": "fb330e7f-c38d-4ee0-c453-7bf99dae8ee5"
      },
      "source": [
        "#TSNE visualization\n",
        "from bioinfokit.visuz import cluster\n",
        "\n",
        "data_tsne = TSNE(n_components=2).fit_transform(X)\n",
        "cluster.tsneplot(score=data_tsne)"
      ],
      "execution_count": 9,
      "outputs": [
        {
          "output_type": "stream",
          "text": [
            "findfont: Font family ['Arial'] not found. Falling back to DejaVu Sans.\n"
          ],
          "name": "stderr"
        }
      ]
    },
    {
      "cell_type": "code",
      "metadata": {
        "id": "meyo8Kx7fO7V"
      },
      "source": [
        "#Get a list of categories\n",
        "color_class = dataframe['diagnosis'].to_numpy()\n",
        "cluster.tsneplot(score=data_tsne, colorlist=color_class, legendpos='upper right', legendanchor=(1.15, 1))\n",
        "\n",
        "#Plot will be stored in default directory"
      ],
      "execution_count": 10,
      "outputs": []
    },
    {
      "cell_type": "code",
      "metadata": {
        "colab": {
          "base_uri": "https://localhost:8080/"
        },
        "id": "hxUSNm-sfyU6",
        "outputId": "282b4171-575c-4fe8-c58b-1815cf6c60dd"
      },
      "source": [
        "data_tsne"
      ],
      "execution_count": 11,
      "outputs": [
        {
          "output_type": "execute_result",
          "data": {
            "text/plain": [
              "array([[-23.48698  , -19.912575 ],\n",
              "       [-26.175413 , -20.044943 ],\n",
              "       [-26.500225 , -14.9005785],\n",
              "       ...,\n",
              "       [-23.54958  ,   3.955395 ],\n",
              "       [-26.097765 , -17.689018 ],\n",
              "       [ 14.937025 , -29.937029 ]], dtype=float32)"
            ]
          },
          "metadata": {
            "tags": []
          },
          "execution_count": 11
        }
      ]
    },
    {
      "cell_type": "code",
      "metadata": {
        "id": "P18ligb9f46e"
      },
      "source": [
        ""
      ],
      "execution_count": null,
      "outputs": []
    }
  ]
}